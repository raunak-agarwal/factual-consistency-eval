{
 "cells": [
  {
   "cell_type": "code",
   "execution_count": 1,
   "metadata": {},
   "outputs": [],
   "source": [
    "from datasets import load_dataset\n",
    "import pandas as pd"
   ]
  },
  {
   "cell_type": "code",
   "execution_count": 2,
   "metadata": {},
   "outputs": [],
   "source": [
    "trueteacher = load_dataset(\"google/trueteacher\")"
   ]
  },
  {
   "cell_type": "code",
   "execution_count": 3,
   "metadata": {},
   "outputs": [],
   "source": [
    "cnn_dailymail = load_dataset(\"cnn_dailymail\", \"3.0.0\")"
   ]
  },
  {
   "cell_type": "code",
   "execution_count": 4,
   "metadata": {},
   "outputs": [
    {
     "data": {
      "text/plain": [
       "summarization_model\n",
       "T5-Base     279657\n",
       "T5-Small    278141\n",
       "T5-Large    277667\n",
       "T5-3B       274759\n",
       "T5-11B      273238\n",
       "Name: count, dtype: int64"
      ]
     },
     "execution_count": 4,
     "metadata": {},
     "output_type": "execute_result"
    }
   ],
   "source": [
    "df = trueteacher['train'].to_pandas()\n",
    "\n",
    "df['label'] = df['label'].astype(int)\n",
    "\n",
    "df['summarization_model'].value_counts()"
   ]
  },
  {
   "cell_type": "code",
   "execution_count": 5,
   "metadata": {},
   "outputs": [
    {
     "data": {
      "text/plain": [
       "825664"
      ]
     },
     "execution_count": 5,
     "metadata": {},
     "output_type": "execute_result"
    }
   ],
   "source": [
    "subset1 = df[df['summarization_model'] == 'T5-3B']\n",
    "subset2 = df[df['summarization_model'] == 'T5-11B']\n",
    "subset3 = df[df['summarization_model'] == 'T5-Large']\n",
    "\n",
    "subset = pd.concat([subset2, subset1, subset3])\n",
    "len(subset)"
   ]
  },
  {
   "cell_type": "code",
   "execution_count": 6,
   "metadata": {},
   "outputs": [
    {
     "name": "stdout",
     "output_type": "stream",
     "text": [
      "124772\n",
      "273245\n",
      "249544\n"
     ]
    },
    {
     "data": {
      "text/plain": [
       "(None, None, None)"
      ]
     },
     "execution_count": 6,
     "metadata": {},
     "output_type": "execute_result"
    }
   ],
   "source": [
    "negatives = subset[subset['label'] == 0].drop_duplicates(subset=['cnndm_id'], keep=\"first\")\n",
    "positives = subset[subset['label'] == 1].drop_duplicates(subset=['cnndm_id'], keep=\"first\")\n",
    "\n",
    "uniques = pd.concat([negatives, positives.sample(n=len(negatives))])\n",
    "\n",
    "print(len(negatives)), print(len(positives)), print(len(uniques))"
   ]
  },
  {
   "cell_type": "code",
   "execution_count": 7,
   "metadata": {},
   "outputs": [
    {
     "data": {
      "text/plain": [
       "(124772, 273245)"
      ]
     },
     "execution_count": 7,
     "metadata": {},
     "output_type": "execute_result"
    }
   ],
   "source": [
    "len(set(negatives['cnndm_id'].to_list())), len(set(positives['cnndm_id'].to_list()))"
   ]
  },
  {
   "cell_type": "code",
   "execution_count": 8,
   "metadata": {},
   "outputs": [
    {
     "data": {
      "text/html": [
       "<div>\n",
       "<style scoped>\n",
       "    .dataframe tbody tr th:only-of-type {\n",
       "        vertical-align: middle;\n",
       "    }\n",
       "\n",
       "    .dataframe tbody tr th {\n",
       "        vertical-align: top;\n",
       "    }\n",
       "\n",
       "    .dataframe thead th {\n",
       "        text-align: right;\n",
       "    }\n",
       "</style>\n",
       "<table border=\"1\" class=\"dataframe\">\n",
       "  <thead>\n",
       "    <tr style=\"text-align: right;\">\n",
       "      <th></th>\n",
       "      <th>article</th>\n",
       "      <th>highlights</th>\n",
       "      <th>id</th>\n",
       "    </tr>\n",
       "  </thead>\n",
       "  <tbody>\n",
       "    <tr>\n",
       "      <th>0</th>\n",
       "      <td>LONDON, England (Reuters) -- Harry Potter star...</td>\n",
       "      <td>Harry Potter star Daniel Radcliffe gets £20M f...</td>\n",
       "      <td>42c027e4ff9730fbb3de84c1af0d2c506e41c3e4</td>\n",
       "    </tr>\n",
       "    <tr>\n",
       "      <th>1</th>\n",
       "      <td>Editor's note: In our Behind the Scenes series...</td>\n",
       "      <td>Mentally ill inmates in Miami are housed on th...</td>\n",
       "      <td>ee8871b15c50d0db17b0179a6d2beab35065f1e9</td>\n",
       "    </tr>\n",
       "  </tbody>\n",
       "</table>\n",
       "</div>"
      ],
      "text/plain": [
       "                                             article  \\\n",
       "0  LONDON, England (Reuters) -- Harry Potter star...   \n",
       "1  Editor's note: In our Behind the Scenes series...   \n",
       "\n",
       "                                          highlights  \\\n",
       "0  Harry Potter star Daniel Radcliffe gets £20M f...   \n",
       "1  Mentally ill inmates in Miami are housed on th...   \n",
       "\n",
       "                                         id  \n",
       "0  42c027e4ff9730fbb3de84c1af0d2c506e41c3e4  \n",
       "1  ee8871b15c50d0db17b0179a6d2beab35065f1e9  "
      ]
     },
     "execution_count": 8,
     "metadata": {},
     "output_type": "execute_result"
    }
   ],
   "source": [
    "cnn_dailymail = cnn_dailymail['train'].to_pandas()\n",
    "cnn_dailymail.head(2)"
   ]
  },
  {
   "cell_type": "code",
   "execution_count": 9,
   "metadata": {},
   "outputs": [
    {
     "data": {
      "text/plain": [
       "249544"
      ]
     },
     "execution_count": 9,
     "metadata": {},
     "output_type": "execute_result"
    }
   ],
   "source": [
    "# join with the following keys cnndm_id on subset and id on cnn_dailymail\n",
    "\n",
    "merged = pd.merge(uniques, cnn_dailymail, left_on='cnndm_id', right_on='id')\n",
    "len(merged)"
   ]
  },
  {
   "cell_type": "code",
   "execution_count": 10,
   "metadata": {},
   "outputs": [
    {
     "data": {
      "text/html": [
       "<div>\n",
       "<style scoped>\n",
       "    .dataframe tbody tr th:only-of-type {\n",
       "        vertical-align: middle;\n",
       "    }\n",
       "\n",
       "    .dataframe tbody tr th {\n",
       "        vertical-align: top;\n",
       "    }\n",
       "\n",
       "    .dataframe thead th {\n",
       "        text-align: right;\n",
       "    }\n",
       "</style>\n",
       "<table border=\"1\" class=\"dataframe\">\n",
       "  <thead>\n",
       "    <tr style=\"text-align: right;\">\n",
       "      <th></th>\n",
       "      <th>source</th>\n",
       "      <th>target</th>\n",
       "      <th>label</th>\n",
       "      <th>subset</th>\n",
       "    </tr>\n",
       "  </thead>\n",
       "  <tbody>\n",
       "    <tr>\n",
       "      <th>0</th>\n",
       "      <td>By . Anthony Bond . PUBLISHED: . 12:26 EST, 12...</td>\n",
       "      <td>A man who served 39 years in prison for the ra...</td>\n",
       "      <td>No</td>\n",
       "      <td>T5-11B</td>\n",
       "    </tr>\n",
       "    <tr>\n",
       "      <th>1</th>\n",
       "      <td>The production is slick. The imagery: ominous....</td>\n",
       "      <td>Amid the escalating violence in Iraq and Syria...</td>\n",
       "      <td>No</td>\n",
       "      <td>T5-11B</td>\n",
       "    </tr>\n",
       "    <tr>\n",
       "      <th>2</th>\n",
       "      <td>(CNN) -- Tayna Fogle sat just behind Sen. Rand...</td>\n",
       "      <td>A former felon who helped launch a US presiden...</td>\n",
       "      <td>No</td>\n",
       "      <td>T5-11B</td>\n",
       "    </tr>\n",
       "    <tr>\n",
       "      <th>3</th>\n",
       "      <td>An Iraqi policeman has been hailed a hero afte...</td>\n",
       "      <td>The UK Ministry of Defence (MoD) has said it i...</td>\n",
       "      <td>No</td>\n",
       "      <td>T5-11B</td>\n",
       "    </tr>\n",
       "    <tr>\n",
       "      <th>4</th>\n",
       "      <td>By . Simon Jones . West Ham are waiting on Che...</td>\n",
       "      <td>West Ham manager Slaven Bilic has been given p...</td>\n",
       "      <td>No</td>\n",
       "      <td>T5-11B</td>\n",
       "    </tr>\n",
       "    <tr>\n",
       "      <th>...</th>\n",
       "      <td>...</td>\n",
       "      <td>...</td>\n",
       "      <td>...</td>\n",
       "      <td>...</td>\n",
       "    </tr>\n",
       "    <tr>\n",
       "      <th>249539</th>\n",
       "      <td>Queens Park Rangers caretaker manager Chris Ra...</td>\n",
       "      <td>QPR caretaker manager Chris Ramsey says he wou...</td>\n",
       "      <td>Yes</td>\n",
       "      <td>T5-11B</td>\n",
       "    </tr>\n",
       "    <tr>\n",
       "      <th>249540</th>\n",
       "      <td>A mother of two in South Carolina has been cuf...</td>\n",
       "      <td>A US mother was arrested for swearing in front...</td>\n",
       "      <td>Yes</td>\n",
       "      <td>T5-11B</td>\n",
       "    </tr>\n",
       "    <tr>\n",
       "      <th>249541</th>\n",
       "      <td>Karin  Ward, 56, is facing a High Court trial ...</td>\n",
       "      <td>A woman who claims she was sexually abused by ...</td>\n",
       "      <td>Yes</td>\n",
       "      <td>T5-11B</td>\n",
       "    </tr>\n",
       "    <tr>\n",
       "      <th>249542</th>\n",
       "      <td>By . Kerry Mcdermott . PUBLISHED: . 09:01 EST,...</td>\n",
       "      <td>A Chinese ship is attempting to make history b...</td>\n",
       "      <td>Yes</td>\n",
       "      <td>T5-11B</td>\n",
       "    </tr>\n",
       "    <tr>\n",
       "      <th>249543</th>\n",
       "      <td>By . Sean O'hare . PUBLISHED: . 08:10 EST, 13 ...</td>\n",
       "      <td>A man who takes back-facing portraits of his w...</td>\n",
       "      <td>Yes</td>\n",
       "      <td>T5-3B</td>\n",
       "    </tr>\n",
       "  </tbody>\n",
       "</table>\n",
       "<p>249544 rows × 4 columns</p>\n",
       "</div>"
      ],
      "text/plain": [
       "                                                   source  \\\n",
       "0       By . Anthony Bond . PUBLISHED: . 12:26 EST, 12...   \n",
       "1       The production is slick. The imagery: ominous....   \n",
       "2       (CNN) -- Tayna Fogle sat just behind Sen. Rand...   \n",
       "3       An Iraqi policeman has been hailed a hero afte...   \n",
       "4       By . Simon Jones . West Ham are waiting on Che...   \n",
       "...                                                   ...   \n",
       "249539  Queens Park Rangers caretaker manager Chris Ra...   \n",
       "249540  A mother of two in South Carolina has been cuf...   \n",
       "249541  Karin  Ward, 56, is facing a High Court trial ...   \n",
       "249542  By . Kerry Mcdermott . PUBLISHED: . 09:01 EST,...   \n",
       "249543  By . Sean O'hare . PUBLISHED: . 08:10 EST, 13 ...   \n",
       "\n",
       "                                                   target label  subset  \n",
       "0       A man who served 39 years in prison for the ra...    No  T5-11B  \n",
       "1       Amid the escalating violence in Iraq and Syria...    No  T5-11B  \n",
       "2       A former felon who helped launch a US presiden...    No  T5-11B  \n",
       "3       The UK Ministry of Defence (MoD) has said it i...    No  T5-11B  \n",
       "4       West Ham manager Slaven Bilic has been given p...    No  T5-11B  \n",
       "...                                                   ...   ...     ...  \n",
       "249539  QPR caretaker manager Chris Ramsey says he wou...   Yes  T5-11B  \n",
       "249540  A US mother was arrested for swearing in front...   Yes  T5-11B  \n",
       "249541  A woman who claims she was sexually abused by ...   Yes  T5-11B  \n",
       "249542  A Chinese ship is attempting to make history b...   Yes  T5-11B  \n",
       "249543  A man who takes back-facing portraits of his w...   Yes   T5-3B  \n",
       "\n",
       "[249544 rows x 4 columns]"
      ]
     },
     "execution_count": 10,
     "metadata": {},
     "output_type": "execute_result"
    }
   ],
   "source": [
    "merged = merged[['article', 'summary', 'label', 'summarization_model']]\n",
    "\n",
    "merged = merged.rename(columns={'summary': 'target', 'article': 'source', 'label': 'label', 'summarization_model': 'subset'})\n",
    "\n",
    "\n",
    "# Replace 1 with Yes and 0 with No\n",
    "merged['label'] = merged['label'].replace({1: 'Yes', 0: 'No'})\n",
    "\n",
    "merged"
   ]
  },
  {
   "cell_type": "code",
   "execution_count": 11,
   "metadata": {},
   "outputs": [],
   "source": [
    "merged.to_json('../data/test-data/trueteacher_unique_sampled.json', orient='records', lines=True, force_ascii=False)"
   ]
  },
  {
   "cell_type": "code",
   "execution_count": 2,
   "metadata": {},
   "outputs": [
    {
     "data": {
      "text/html": [
       "<div>\n",
       "<style scoped>\n",
       "    .dataframe tbody tr th:only-of-type {\n",
       "        vertical-align: middle;\n",
       "    }\n",
       "\n",
       "    .dataframe tbody tr th {\n",
       "        vertical-align: top;\n",
       "    }\n",
       "\n",
       "    .dataframe thead th {\n",
       "        text-align: right;\n",
       "    }\n",
       "</style>\n",
       "<table border=\"1\" class=\"dataframe\">\n",
       "  <thead>\n",
       "    <tr style=\"text-align: right;\">\n",
       "      <th></th>\n",
       "      <th>source</th>\n",
       "      <th>target</th>\n",
       "      <th>label</th>\n",
       "      <th>subset</th>\n",
       "    </tr>\n",
       "  </thead>\n",
       "  <tbody>\n",
       "    <tr>\n",
       "      <th>0</th>\n",
       "      <td>By . Anthony Bond . PUBLISHED: . 12:26 EST, 12...</td>\n",
       "      <td>A man who served 39 years in prison for the ra...</td>\n",
       "      <td>No</td>\n",
       "      <td>T5-11B</td>\n",
       "    </tr>\n",
       "    <tr>\n",
       "      <th>1</th>\n",
       "      <td>The production is slick. The imagery: ominous....</td>\n",
       "      <td>Amid the escalating violence in Iraq and Syria...</td>\n",
       "      <td>No</td>\n",
       "      <td>T5-11B</td>\n",
       "    </tr>\n",
       "    <tr>\n",
       "      <th>2</th>\n",
       "      <td>(CNN) -- Tayna Fogle sat just behind Sen. Rand...</td>\n",
       "      <td>A former felon who helped launch a US presiden...</td>\n",
       "      <td>No</td>\n",
       "      <td>T5-11B</td>\n",
       "    </tr>\n",
       "    <tr>\n",
       "      <th>3</th>\n",
       "      <td>An Iraqi policeman has been hailed a hero afte...</td>\n",
       "      <td>The UK Ministry of Defence (MoD) has said it i...</td>\n",
       "      <td>No</td>\n",
       "      <td>T5-11B</td>\n",
       "    </tr>\n",
       "    <tr>\n",
       "      <th>4</th>\n",
       "      <td>By . Simon Jones . West Ham are waiting on Che...</td>\n",
       "      <td>West Ham manager Slaven Bilic has been given p...</td>\n",
       "      <td>No</td>\n",
       "      <td>T5-11B</td>\n",
       "    </tr>\n",
       "    <tr>\n",
       "      <th>...</th>\n",
       "      <td>...</td>\n",
       "      <td>...</td>\n",
       "      <td>...</td>\n",
       "      <td>...</td>\n",
       "    </tr>\n",
       "    <tr>\n",
       "      <th>249539</th>\n",
       "      <td>Queens Park Rangers caretaker manager Chris Ra...</td>\n",
       "      <td>QPR caretaker manager Chris Ramsey says he wou...</td>\n",
       "      <td>Yes</td>\n",
       "      <td>T5-11B</td>\n",
       "    </tr>\n",
       "    <tr>\n",
       "      <th>249540</th>\n",
       "      <td>A mother of two in South Carolina has been cuf...</td>\n",
       "      <td>A US mother was arrested for swearing in front...</td>\n",
       "      <td>Yes</td>\n",
       "      <td>T5-11B</td>\n",
       "    </tr>\n",
       "    <tr>\n",
       "      <th>249541</th>\n",
       "      <td>Karin  Ward, 56, is facing a High Court trial ...</td>\n",
       "      <td>A woman who claims she was sexually abused by ...</td>\n",
       "      <td>Yes</td>\n",
       "      <td>T5-11B</td>\n",
       "    </tr>\n",
       "    <tr>\n",
       "      <th>249542</th>\n",
       "      <td>By . Kerry Mcdermott . PUBLISHED: . 09:01 EST,...</td>\n",
       "      <td>A Chinese ship is attempting to make history b...</td>\n",
       "      <td>Yes</td>\n",
       "      <td>T5-11B</td>\n",
       "    </tr>\n",
       "    <tr>\n",
       "      <th>249543</th>\n",
       "      <td>By . Sean O'hare . PUBLISHED: . 08:10 EST, 13 ...</td>\n",
       "      <td>A man who takes back-facing portraits of his w...</td>\n",
       "      <td>Yes</td>\n",
       "      <td>T5-3B</td>\n",
       "    </tr>\n",
       "  </tbody>\n",
       "</table>\n",
       "<p>249544 rows × 4 columns</p>\n",
       "</div>"
      ],
      "text/plain": [
       "                                                   source  \\\n",
       "0       By . Anthony Bond . PUBLISHED: . 12:26 EST, 12...   \n",
       "1       The production is slick. The imagery: ominous....   \n",
       "2       (CNN) -- Tayna Fogle sat just behind Sen. Rand...   \n",
       "3       An Iraqi policeman has been hailed a hero afte...   \n",
       "4       By . Simon Jones . West Ham are waiting on Che...   \n",
       "...                                                   ...   \n",
       "249539  Queens Park Rangers caretaker manager Chris Ra...   \n",
       "249540  A mother of two in South Carolina has been cuf...   \n",
       "249541  Karin  Ward, 56, is facing a High Court trial ...   \n",
       "249542  By . Kerry Mcdermott . PUBLISHED: . 09:01 EST,...   \n",
       "249543  By . Sean O'hare . PUBLISHED: . 08:10 EST, 13 ...   \n",
       "\n",
       "                                                   target label  subset  \n",
       "0       A man who served 39 years in prison for the ra...    No  T5-11B  \n",
       "1       Amid the escalating violence in Iraq and Syria...    No  T5-11B  \n",
       "2       A former felon who helped launch a US presiden...    No  T5-11B  \n",
       "3       The UK Ministry of Defence (MoD) has said it i...    No  T5-11B  \n",
       "4       West Ham manager Slaven Bilic has been given p...    No  T5-11B  \n",
       "...                                                   ...   ...     ...  \n",
       "249539  QPR caretaker manager Chris Ramsey says he wou...   Yes  T5-11B  \n",
       "249540  A US mother was arrested for swearing in front...   Yes  T5-11B  \n",
       "249541  A woman who claims she was sexually abused by ...   Yes  T5-11B  \n",
       "249542  A Chinese ship is attempting to make history b...   Yes  T5-11B  \n",
       "249543  A man who takes back-facing portraits of his w...   Yes   T5-3B  \n",
       "\n",
       "[249544 rows x 4 columns]"
      ]
     },
     "execution_count": 2,
     "metadata": {},
     "output_type": "execute_result"
    }
   ],
   "source": [
    "#load \n",
    "\n",
    "df = pd.read_json('../data/test-data/trueteacher_unique_sampled.json', orient='records', lines=True)\n",
    "df"
   ]
  },
  {
   "cell_type": "code",
   "execution_count": 13,
   "metadata": {},
   "outputs": [
    {
     "data": {
      "text/plain": [
       "subset\n",
       "T5-11B      146173\n",
       "T5-Large     54037\n",
       "T5-3B        49334\n",
       "Name: count, dtype: int64"
      ]
     },
     "execution_count": 13,
     "metadata": {},
     "output_type": "execute_result"
    }
   ],
   "source": [
    "df.subset.value_counts()"
   ]
  },
  {
   "cell_type": "code",
   "execution_count": 3,
   "metadata": {},
   "outputs": [],
   "source": [
    "def count_words(text):\n",
    "    return len(text.split())\n",
    "\n",
    "\n",
    "df['source_word_count'] = df['source'].apply(count_words)\n",
    "df['target_word_count'] = df['target'].apply(count_words)"
   ]
  },
  {
   "cell_type": "code",
   "execution_count": 5,
   "metadata": {},
   "outputs": [
    {
     "data": {
      "text/plain": [
       "count    249544.000000\n",
       "mean        724.446631\n",
       "std         345.503751\n",
       "min          37.000000\n",
       "25%         466.000000\n",
       "50%         666.000000\n",
       "75%         919.000000\n",
       "max        2374.000000\n",
       "Name: total_word_count, dtype: float64"
      ]
     },
     "execution_count": 5,
     "metadata": {},
     "output_type": "execute_result"
    }
   ],
   "source": [
    "df['total_word_count'] = df['source_word_count'] + df['target_word_count']\n",
    "\n",
    "df['total_word_count'].describe()"
   ]
  },
  {
   "cell_type": "code",
   "execution_count": 6,
   "metadata": {},
   "outputs": [
    {
     "data": {
      "text/plain": [
       "180781310"
      ]
     },
     "execution_count": 6,
     "metadata": {},
     "output_type": "execute_result"
    }
   ],
   "source": [
    "df['total_word_count'].sum()"
   ]
  },
  {
   "cell_type": "code",
   "execution_count": 7,
   "metadata": {},
   "outputs": [
    {
     "data": {
      "text/plain": [
       "45195327.5"
      ]
     },
     "execution_count": 7,
     "metadata": {},
     "output_type": "execute_result"
    }
   ],
   "source": [
    "180781310*0.25"
   ]
  },
  {
   "cell_type": "code",
   "execution_count": 8,
   "metadata": {},
   "outputs": [
    {
     "data": {
      "text/plain": [
       "45.195327"
      ]
     },
     "execution_count": 8,
     "metadata": {},
     "output_type": "execute_result"
    }
   ],
   "source": [
    "45195327/1000000"
   ]
  },
  {
   "cell_type": "code",
   "execution_count": null,
   "metadata": {},
   "outputs": [],
   "source": []
  }
 ],
 "metadata": {
  "kernelspec": {
   "display_name": "Python 3",
   "language": "python",
   "name": "python3"
  },
  "language_info": {
   "codemirror_mode": {
    "name": "ipython",
    "version": 3
   },
   "file_extension": ".py",
   "mimetype": "text/x-python",
   "name": "python",
   "nbconvert_exporter": "python",
   "pygments_lexer": "ipython3",
   "version": "3.11.7"
  }
 },
 "nbformat": 4,
 "nbformat_minor": 2
}
