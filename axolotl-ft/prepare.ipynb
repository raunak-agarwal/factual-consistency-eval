{
 "cells": [
  {
   "cell_type": "code",
   "execution_count": 4,
   "metadata": {},
   "outputs": [],
   "source": [
    "import pandas as pd\n",
    "    "
   ]
  },
  {
   "cell_type": "code",
   "execution_count": 7,
   "metadata": {},
   "outputs": [],
   "source": [
    "folder_path = '../data/seahorse-cleaned/'\n",
    "SYSTEM_PROMPT = \"\"\"<s>[INST] <<SYS>>\\nYou are a helpful assistant that follows the instruction provided below.\\n<</SYS>>\"\"\"\n",
    "PROMPT = \"\"\"Can the target text be inferred from the source text? In other words, is the target text factually consistent with the source text? Answer with a \"Yes\" or \"No\".\"\"\""
   ]
  },
  {
   "cell_type": "code",
   "execution_count": 8,
   "metadata": {},
   "outputs": [
    {
     "name": "stdout",
     "output_type": "stream",
     "text": [
      "Preparing Seahorse data...\n",
      "Formatting text...\n",
      "Saving to disk...\n"
     ]
    }
   ],
   "source": [
    "def format_text(row):\n",
    "    source = row['source']\n",
    "    target = row['target']\n",
    "    label = row['label']\n",
    "    \n",
    "    text = f\"{PROMPT}\\n\\nSource Text: {source}\\n\\nTarget Text: {target}\"\n",
    "    \n",
    "    row['instruction'] = text\n",
    "    row['output'] =  f\"{label}\"\n",
    "    \n",
    "    return row\n",
    "\n",
    "def main():\n",
    "    print('Preparing Seahorse data...')\n",
    "    train = pd.read_json(folder_path + 'seahorse-train.jsonl', lines=True)\n",
    "    validation = pd.read_json(folder_path + 'seahorse-validation.jsonl', lines=True)\n",
    "    \n",
    "    print('Formatting text...')\n",
    "    train = train.apply(format_text, axis=1)[['instruction', 'output']]\n",
    "    validation = validation.apply(format_text, axis=1)[['instruction', 'output']]\n",
    "    \n",
    "    print('Saving to disk...')\n",
    "    train.to_json(folder_path + 'seahorse-train-axolotl.jsonl', orient='records', lines=True)\n",
    "    validation.to_json(folder_path + 'seahorse-validation-axolotl.jsonl', orient='records', lines=True)\n",
    "    \n",
    "\n",
    "if __name__ == '__main__':\n",
    "    main()"
   ]
  },
  {
   "cell_type": "code",
   "execution_count": null,
   "metadata": {},
   "outputs": [],
   "source": []
  },
  {
   "cell_type": "code",
   "execution_count": null,
   "metadata": {},
   "outputs": [],
   "source": []
  }
 ],
 "metadata": {
  "kernelspec": {
   "display_name": "Python 3",
   "language": "python",
   "name": "python3"
  },
  "language_info": {
   "codemirror_mode": {
    "name": "ipython",
    "version": 3
   },
   "file_extension": ".py",
   "mimetype": "text/x-python",
   "name": "python",
   "nbconvert_exporter": "python",
   "pygments_lexer": "ipython3",
   "version": "3.11.7"
  }
 },
 "nbformat": 4,
 "nbformat_minor": 2
}
